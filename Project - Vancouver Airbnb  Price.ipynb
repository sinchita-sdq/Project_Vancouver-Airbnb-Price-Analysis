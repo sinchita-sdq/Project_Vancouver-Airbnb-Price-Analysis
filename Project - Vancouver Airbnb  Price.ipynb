{
 "cells": [
  {
   "cell_type": "markdown",
   "metadata": {},
   "source": [
    "# Vancouver Airbnb Rental Listings Price Analysis"
   ]
  },
  {
   "cell_type": "markdown",
   "metadata": {},
   "source": [
    "Prepared By: Sinchita Siddiquee  \n",
    "Submission Date: November 2, 2019"
   ]
  },
  {
   "cell_type": "markdown",
   "metadata": {},
   "source": [
    "## 1. Project Overview\n",
    "\n",
    "This project analyzes the effect of various factors such as location and accommodation size on the price of Airbnb rental listings in the Vancouver Area. Then, a Linear Regression model is developed and trained that can predict the price of rental listings based on the accommodation size, location and room type.\n",
    "\n",
    "The dataset used in this project was collected from this website: http://insideairbnb.com/get-the-data.html"
   ]
  },
  {
   "cell_type": "code",
   "execution_count": 1,
   "metadata": {},
   "outputs": [],
   "source": [
    "# Importing required Python packages\n",
    "\n",
    "import numpy as np\n",
    "import pandas as pd\n",
    "import matplotlib.pyplot as plt\n",
    "%matplotlib inline\n",
    "\n",
    "import seaborn as sns"
   ]
  },
  {
   "cell_type": "code",
   "execution_count": 2,
   "metadata": {
    "scrolled": true
   },
   "outputs": [
    {
     "data": {
      "text/html": [
       "<div>\n",
       "<style scoped>\n",
       "    .dataframe tbody tr th:only-of-type {\n",
       "        vertical-align: middle;\n",
       "    }\n",
       "\n",
       "    .dataframe tbody tr th {\n",
       "        vertical-align: top;\n",
       "    }\n",
       "\n",
       "    .dataframe thead th {\n",
       "        text-align: right;\n",
       "    }\n",
       "</style>\n",
       "<table border=\"1\" class=\"dataframe\">\n",
       "  <thead>\n",
       "    <tr style=\"text-align: right;\">\n",
       "      <th></th>\n",
       "      <th>id</th>\n",
       "      <th>name</th>\n",
       "      <th>host_id</th>\n",
       "      <th>host_name</th>\n",
       "      <th>host_is_superhost</th>\n",
       "      <th>host_neighbourhood</th>\n",
       "      <th>host_listings_count</th>\n",
       "      <th>host_total_listings_count</th>\n",
       "      <th>host_identity_verified</th>\n",
       "      <th>neighbourhood_cleansed</th>\n",
       "      <th>...</th>\n",
       "      <th>room_type</th>\n",
       "      <th>accommodates</th>\n",
       "      <th>bathrooms</th>\n",
       "      <th>bedrooms</th>\n",
       "      <th>beds</th>\n",
       "      <th>price</th>\n",
       "      <th>minimum_nights</th>\n",
       "      <th>maximum_nights</th>\n",
       "      <th>number_of_reviews</th>\n",
       "      <th>reviews_per_month</th>\n",
       "    </tr>\n",
       "  </thead>\n",
       "  <tbody>\n",
       "    <tr>\n",
       "      <th>0</th>\n",
       "      <td>5731</td>\n",
       "      <td>Mai Lodging - Room Single bed 5</td>\n",
       "      <td>9187</td>\n",
       "      <td>Mai</td>\n",
       "      <td>f</td>\n",
       "      <td>Kensington-Cedar Cottage</td>\n",
       "      <td>7.0</td>\n",
       "      <td>7.0</td>\n",
       "      <td>f</td>\n",
       "      <td>Kensington-Cedar Cottage</td>\n",
       "      <td>...</td>\n",
       "      <td>Private room</td>\n",
       "      <td>1</td>\n",
       "      <td>0.0</td>\n",
       "      <td>1.0</td>\n",
       "      <td>1.0</td>\n",
       "      <td>$38.00</td>\n",
       "      <td>2</td>\n",
       "      <td>30</td>\n",
       "      <td>103</td>\n",
       "      <td>0.81</td>\n",
       "    </tr>\n",
       "    <tr>\n",
       "      <th>1</th>\n",
       "      <td>10080</td>\n",
       "      <td>D1 -  Million Dollar View 2 BR</td>\n",
       "      <td>30899</td>\n",
       "      <td>Rami</td>\n",
       "      <td>f</td>\n",
       "      <td>Coal Harbour</td>\n",
       "      <td>41.0</td>\n",
       "      <td>41.0</td>\n",
       "      <td>t</td>\n",
       "      <td>Downtown</td>\n",
       "      <td>...</td>\n",
       "      <td>Entire home/apt</td>\n",
       "      <td>6</td>\n",
       "      <td>2.0</td>\n",
       "      <td>2.0</td>\n",
       "      <td>4.0</td>\n",
       "      <td>$150.00</td>\n",
       "      <td>60</td>\n",
       "      <td>1124</td>\n",
       "      <td>16</td>\n",
       "      <td>0.17</td>\n",
       "    </tr>\n",
       "    <tr>\n",
       "      <th>2</th>\n",
       "      <td>13188</td>\n",
       "      <td>Garden level studio in ideal loc.</td>\n",
       "      <td>51466</td>\n",
       "      <td>Family Guns</td>\n",
       "      <td>t</td>\n",
       "      <td>Riley Park</td>\n",
       "      <td>2.0</td>\n",
       "      <td>2.0</td>\n",
       "      <td>t</td>\n",
       "      <td>Riley Park</td>\n",
       "      <td>...</td>\n",
       "      <td>Entire home/apt</td>\n",
       "      <td>4</td>\n",
       "      <td>1.0</td>\n",
       "      <td>0.0</td>\n",
       "      <td>2.0</td>\n",
       "      <td>$121.00</td>\n",
       "      <td>2</td>\n",
       "      <td>180</td>\n",
       "      <td>218</td>\n",
       "      <td>1.87</td>\n",
       "    </tr>\n",
       "  </tbody>\n",
       "</table>\n",
       "<p>3 rows × 25 columns</p>\n",
       "</div>"
      ],
      "text/plain": [
       "      id                               name  host_id    host_name  \\\n",
       "0   5731    Mai Lodging - Room Single bed 5     9187          Mai   \n",
       "1  10080     D1 -  Million Dollar View 2 BR    30899         Rami   \n",
       "2  13188  Garden level studio in ideal loc.    51466  Family Guns   \n",
       "\n",
       "  host_is_superhost        host_neighbourhood  host_listings_count  \\\n",
       "0                 f  Kensington-Cedar Cottage                  7.0   \n",
       "1                 f              Coal Harbour                 41.0   \n",
       "2                 t                Riley Park                  2.0   \n",
       "\n",
       "   host_total_listings_count host_identity_verified    neighbourhood_cleansed  \\\n",
       "0                        7.0                      f  Kensington-Cedar Cottage   \n",
       "1                       41.0                      t                  Downtown   \n",
       "2                        2.0                      t                Riley Park   \n",
       "\n",
       "         ...                room_type accommodates  bathrooms  bedrooms beds  \\\n",
       "0        ...             Private room            1        0.0       1.0  1.0   \n",
       "1        ...          Entire home/apt            6        2.0       2.0  4.0   \n",
       "2        ...          Entire home/apt            4        1.0       0.0  2.0   \n",
       "\n",
       "     price  minimum_nights  maximum_nights  number_of_reviews  \\\n",
       "0   $38.00               2              30                103   \n",
       "1  $150.00              60            1124                 16   \n",
       "2  $121.00               2             180                218   \n",
       "\n",
       "   reviews_per_month  \n",
       "0               0.81  \n",
       "1               0.17  \n",
       "2               1.87  \n",
       "\n",
       "[3 rows x 25 columns]"
      ]
     },
     "execution_count": 2,
     "metadata": {},
     "output_type": "execute_result"
    }
   ],
   "source": [
    "listing = pd.read_csv('vancouver-airbnb-data/listings.csv')\n",
    "listing.head(3)"
   ]
  },
  {
   "cell_type": "markdown",
   "metadata": {},
   "source": [
    "## 2. Data Cleaning and Manipulation"
   ]
  },
  {
   "cell_type": "markdown",
   "metadata": {},
   "source": [
    "Firstly, some insights into the size of the data set and the data types of its columns will be generated."
   ]
  },
  {
   "cell_type": "code",
   "execution_count": 3,
   "metadata": {},
   "outputs": [
    {
     "data": {
      "text/plain": [
       "(6176, 25)"
      ]
     },
     "execution_count": 3,
     "metadata": {},
     "output_type": "execute_result"
    }
   ],
   "source": [
    "# Number of rows and columns in the dataset\n",
    "listing.shape"
   ]
  },
  {
   "cell_type": "code",
   "execution_count": 4,
   "metadata": {},
   "outputs": [
    {
     "data": {
      "text/plain": [
       "id                             int64\n",
       "name                          object\n",
       "host_id                        int64\n",
       "host_name                     object\n",
       "host_is_superhost             object\n",
       "host_neighbourhood            object\n",
       "host_listings_count          float64\n",
       "host_total_listings_count    float64\n",
       "host_identity_verified        object\n",
       "neighbourhood_cleansed        object\n",
       "neighbourhood_group          float64\n",
       "city                          object\n",
       "latitude                     float64\n",
       "longitude                    float64\n",
       "property_type                 object\n",
       "room_type                     object\n",
       "accommodates                   int64\n",
       "bathrooms                    float64\n",
       "bedrooms                     float64\n",
       "beds                         float64\n",
       "price                         object\n",
       "minimum_nights                 int64\n",
       "maximum_nights                 int64\n",
       "number_of_reviews              int64\n",
       "reviews_per_month            float64\n",
       "dtype: object"
      ]
     },
     "execution_count": 4,
     "metadata": {},
     "output_type": "execute_result"
    }
   ],
   "source": [
    "# Identifying the data type of each column\n",
    "listing.dtypes"
   ]
  },
  {
   "cell_type": "markdown",
   "metadata": {},
   "source": [
    "From the list above, it can be seen that all the columns have the expected data type except for the price column. Currently, the price column has the data type of object (i.e. string) but it needs to be a numeric column for analysis and modelling. The code below will change the values in the price column from string to float. "
   ]
  },
  {
   "cell_type": "code",
   "execution_count": 5,
   "metadata": {
    "scrolled": true
   },
   "outputs": [
    {
     "data": {
      "text/html": [
       "<div>\n",
       "<style scoped>\n",
       "    .dataframe tbody tr th:only-of-type {\n",
       "        vertical-align: middle;\n",
       "    }\n",
       "\n",
       "    .dataframe tbody tr th {\n",
       "        vertical-align: top;\n",
       "    }\n",
       "\n",
       "    .dataframe thead th {\n",
       "        text-align: right;\n",
       "    }\n",
       "</style>\n",
       "<table border=\"1\" class=\"dataframe\">\n",
       "  <thead>\n",
       "    <tr style=\"text-align: right;\">\n",
       "      <th></th>\n",
       "      <th>id</th>\n",
       "      <th>name</th>\n",
       "      <th>host_id</th>\n",
       "      <th>host_name</th>\n",
       "      <th>host_is_superhost</th>\n",
       "      <th>host_neighbourhood</th>\n",
       "      <th>host_listings_count</th>\n",
       "      <th>host_total_listings_count</th>\n",
       "      <th>host_identity_verified</th>\n",
       "      <th>neighbourhood_cleansed</th>\n",
       "      <th>...</th>\n",
       "      <th>room_type</th>\n",
       "      <th>accommodates</th>\n",
       "      <th>bathrooms</th>\n",
       "      <th>bedrooms</th>\n",
       "      <th>beds</th>\n",
       "      <th>price</th>\n",
       "      <th>minimum_nights</th>\n",
       "      <th>maximum_nights</th>\n",
       "      <th>number_of_reviews</th>\n",
       "      <th>reviews_per_month</th>\n",
       "    </tr>\n",
       "  </thead>\n",
       "  <tbody>\n",
       "    <tr>\n",
       "      <th>0</th>\n",
       "      <td>5731</td>\n",
       "      <td>Mai Lodging - Room Single bed 5</td>\n",
       "      <td>9187</td>\n",
       "      <td>Mai</td>\n",
       "      <td>f</td>\n",
       "      <td>Kensington-Cedar Cottage</td>\n",
       "      <td>7.0</td>\n",
       "      <td>7.0</td>\n",
       "      <td>f</td>\n",
       "      <td>Kensington-Cedar Cottage</td>\n",
       "      <td>...</td>\n",
       "      <td>Private room</td>\n",
       "      <td>1</td>\n",
       "      <td>0.0</td>\n",
       "      <td>1.0</td>\n",
       "      <td>1.0</td>\n",
       "      <td>38.0</td>\n",
       "      <td>2</td>\n",
       "      <td>30</td>\n",
       "      <td>103</td>\n",
       "      <td>0.81</td>\n",
       "    </tr>\n",
       "    <tr>\n",
       "      <th>1</th>\n",
       "      <td>10080</td>\n",
       "      <td>D1 -  Million Dollar View 2 BR</td>\n",
       "      <td>30899</td>\n",
       "      <td>Rami</td>\n",
       "      <td>f</td>\n",
       "      <td>Coal Harbour</td>\n",
       "      <td>41.0</td>\n",
       "      <td>41.0</td>\n",
       "      <td>t</td>\n",
       "      <td>Downtown</td>\n",
       "      <td>...</td>\n",
       "      <td>Entire home/apt</td>\n",
       "      <td>6</td>\n",
       "      <td>2.0</td>\n",
       "      <td>2.0</td>\n",
       "      <td>4.0</td>\n",
       "      <td>150.0</td>\n",
       "      <td>60</td>\n",
       "      <td>1124</td>\n",
       "      <td>16</td>\n",
       "      <td>0.17</td>\n",
       "    </tr>\n",
       "    <tr>\n",
       "      <th>2</th>\n",
       "      <td>13188</td>\n",
       "      <td>Garden level studio in ideal loc.</td>\n",
       "      <td>51466</td>\n",
       "      <td>Family Guns</td>\n",
       "      <td>t</td>\n",
       "      <td>Riley Park</td>\n",
       "      <td>2.0</td>\n",
       "      <td>2.0</td>\n",
       "      <td>t</td>\n",
       "      <td>Riley Park</td>\n",
       "      <td>...</td>\n",
       "      <td>Entire home/apt</td>\n",
       "      <td>4</td>\n",
       "      <td>1.0</td>\n",
       "      <td>0.0</td>\n",
       "      <td>2.0</td>\n",
       "      <td>121.0</td>\n",
       "      <td>2</td>\n",
       "      <td>180</td>\n",
       "      <td>218</td>\n",
       "      <td>1.87</td>\n",
       "    </tr>\n",
       "  </tbody>\n",
       "</table>\n",
       "<p>3 rows × 25 columns</p>\n",
       "</div>"
      ],
      "text/plain": [
       "      id                               name  host_id    host_name  \\\n",
       "0   5731    Mai Lodging - Room Single bed 5     9187          Mai   \n",
       "1  10080     D1 -  Million Dollar View 2 BR    30899         Rami   \n",
       "2  13188  Garden level studio in ideal loc.    51466  Family Guns   \n",
       "\n",
       "  host_is_superhost        host_neighbourhood  host_listings_count  \\\n",
       "0                 f  Kensington-Cedar Cottage                  7.0   \n",
       "1                 f              Coal Harbour                 41.0   \n",
       "2                 t                Riley Park                  2.0   \n",
       "\n",
       "   host_total_listings_count host_identity_verified    neighbourhood_cleansed  \\\n",
       "0                        7.0                      f  Kensington-Cedar Cottage   \n",
       "1                       41.0                      t                  Downtown   \n",
       "2                        2.0                      t                Riley Park   \n",
       "\n",
       "         ...                room_type accommodates  bathrooms  bedrooms beds  \\\n",
       "0        ...             Private room            1        0.0       1.0  1.0   \n",
       "1        ...          Entire home/apt            6        2.0       2.0  4.0   \n",
       "2        ...          Entire home/apt            4        1.0       0.0  2.0   \n",
       "\n",
       "   price  minimum_nights  maximum_nights  number_of_reviews  reviews_per_month  \n",
       "0   38.0               2              30                103               0.81  \n",
       "1  150.0              60            1124                 16               0.17  \n",
       "2  121.0               2             180                218               1.87  \n",
       "\n",
       "[3 rows x 25 columns]"
      ]
     },
     "execution_count": 5,
     "metadata": {},
     "output_type": "execute_result"
    }
   ],
   "source": [
    "listing['price'] = listing['price'].str.replace('$', '')\n",
    "listing['price'] = listing['price'].str.replace(',', '')\n",
    "listing['price'] = listing['price'].astype(float)\n",
    "listing.head(3)"
   ]
  },
  {
   "cell_type": "markdown",
   "metadata": {
    "scrolled": false
   },
   "source": [
    "Next, it will be checked if there are any null values in any of the columns. The isnull() and sum() methods are being used to check for the null values."
   ]
  },
  {
   "cell_type": "code",
   "execution_count": 6,
   "metadata": {},
   "outputs": [
    {
     "data": {
      "text/plain": [
       "id                              0\n",
       "name                            1\n",
       "host_id                         0\n",
       "host_name                       4\n",
       "host_is_superhost               4\n",
       "host_neighbourhood            543\n",
       "host_listings_count             4\n",
       "host_total_listings_count       4\n",
       "host_identity_verified          4\n",
       "neighbourhood_cleansed          0\n",
       "neighbourhood_group          6176\n",
       "city                            1\n",
       "latitude                        0\n",
       "longitude                       0\n",
       "property_type                   0\n",
       "room_type                       0\n",
       "accommodates                    0\n",
       "bathrooms                       2\n",
       "bedrooms                        2\n",
       "beds                            5\n",
       "price                           0\n",
       "minimum_nights                  0\n",
       "maximum_nights                  0\n",
       "number_of_reviews               0\n",
       "reviews_per_month             791\n",
       "dtype: int64"
      ]
     },
     "execution_count": 6,
     "metadata": {},
     "output_type": "execute_result"
    }
   ],
   "source": [
    "listing.isnull().sum()"
   ]
  },
  {
   "cell_type": "markdown",
   "metadata": {},
   "source": [
    "All the values in the neighbourhood_group column are null as confirmed below."
   ]
  },
  {
   "cell_type": "code",
   "execution_count": 7,
   "metadata": {},
   "outputs": [
    {
     "data": {
      "text/plain": [
       "array([nan])"
      ]
     },
     "execution_count": 7,
     "metadata": {},
     "output_type": "execute_result"
    }
   ],
   "source": [
    "listing.neighbourhood_group.unique()"
   ]
  },
  {
   "cell_type": "markdown",
   "metadata": {},
   "source": [
    "Therefore, the neighbourhood_group column will be dropped from the data set. In addition to neighbourhood_group, some of the other columns are not relevant to this project and will therefore be dropped."
   ]
  },
  {
   "cell_type": "code",
   "execution_count": 8,
   "metadata": {},
   "outputs": [
    {
     "data": {
      "text/html": [
       "<div>\n",
       "<style scoped>\n",
       "    .dataframe tbody tr th:only-of-type {\n",
       "        vertical-align: middle;\n",
       "    }\n",
       "\n",
       "    .dataframe tbody tr th {\n",
       "        vertical-align: top;\n",
       "    }\n",
       "\n",
       "    .dataframe thead th {\n",
       "        text-align: right;\n",
       "    }\n",
       "</style>\n",
       "<table border=\"1\" class=\"dataframe\">\n",
       "  <thead>\n",
       "    <tr style=\"text-align: right;\">\n",
       "      <th></th>\n",
       "      <th>name</th>\n",
       "      <th>host_id</th>\n",
       "      <th>neighbourhood_cleansed</th>\n",
       "      <th>latitude</th>\n",
       "      <th>longitude</th>\n",
       "      <th>room_type</th>\n",
       "      <th>accommodates</th>\n",
       "      <th>bathrooms</th>\n",
       "      <th>bedrooms</th>\n",
       "      <th>beds</th>\n",
       "      <th>price</th>\n",
       "      <th>minimum_nights</th>\n",
       "      <th>maximum_nights</th>\n",
       "      <th>reviews_per_month</th>\n",
       "    </tr>\n",
       "  </thead>\n",
       "  <tbody>\n",
       "    <tr>\n",
       "      <th>0</th>\n",
       "      <td>Mai Lodging - Room Single bed 5</td>\n",
       "      <td>9187</td>\n",
       "      <td>Kensington-Cedar Cottage</td>\n",
       "      <td>49.24788</td>\n",
       "      <td>-123.06537</td>\n",
       "      <td>Private room</td>\n",
       "      <td>1</td>\n",
       "      <td>0.0</td>\n",
       "      <td>1.0</td>\n",
       "      <td>1.0</td>\n",
       "      <td>38.0</td>\n",
       "      <td>2</td>\n",
       "      <td>30</td>\n",
       "      <td>0.81</td>\n",
       "    </tr>\n",
       "    <tr>\n",
       "      <th>1</th>\n",
       "      <td>D1 -  Million Dollar View 2 BR</td>\n",
       "      <td>30899</td>\n",
       "      <td>Downtown</td>\n",
       "      <td>49.28772</td>\n",
       "      <td>-123.12110</td>\n",
       "      <td>Entire home/apt</td>\n",
       "      <td>6</td>\n",
       "      <td>2.0</td>\n",
       "      <td>2.0</td>\n",
       "      <td>4.0</td>\n",
       "      <td>150.0</td>\n",
       "      <td>60</td>\n",
       "      <td>1124</td>\n",
       "      <td>0.17</td>\n",
       "    </tr>\n",
       "    <tr>\n",
       "      <th>2</th>\n",
       "      <td>Garden level studio in ideal loc.</td>\n",
       "      <td>51466</td>\n",
       "      <td>Riley Park</td>\n",
       "      <td>49.24577</td>\n",
       "      <td>-123.10516</td>\n",
       "      <td>Entire home/apt</td>\n",
       "      <td>4</td>\n",
       "      <td>1.0</td>\n",
       "      <td>0.0</td>\n",
       "      <td>2.0</td>\n",
       "      <td>121.0</td>\n",
       "      <td>2</td>\n",
       "      <td>180</td>\n",
       "      <td>1.87</td>\n",
       "    </tr>\n",
       "  </tbody>\n",
       "</table>\n",
       "</div>"
      ],
      "text/plain": [
       "                                name  host_id    neighbourhood_cleansed  \\\n",
       "0    Mai Lodging - Room Single bed 5     9187  Kensington-Cedar Cottage   \n",
       "1     D1 -  Million Dollar View 2 BR    30899                  Downtown   \n",
       "2  Garden level studio in ideal loc.    51466                Riley Park   \n",
       "\n",
       "   latitude  longitude        room_type  accommodates  bathrooms  bedrooms  \\\n",
       "0  49.24788 -123.06537     Private room             1        0.0       1.0   \n",
       "1  49.28772 -123.12110  Entire home/apt             6        2.0       2.0   \n",
       "2  49.24577 -123.10516  Entire home/apt             4        1.0       0.0   \n",
       "\n",
       "   beds  price  minimum_nights  maximum_nights  reviews_per_month  \n",
       "0   1.0   38.0               2              30               0.81  \n",
       "1   4.0  150.0              60            1124               0.17  \n",
       "2   2.0  121.0               2             180               1.87  "
      ]
     },
     "execution_count": 8,
     "metadata": {},
     "output_type": "execute_result"
    }
   ],
   "source": [
    "listing.drop(['id',\n",
    "              'host_name',\n",
    "              'host_is_superhost',\n",
    "              'host_neighbourhood',\n",
    "              'host_identity_verified',\n",
    "              'host_listings_count',\n",
    "              'host_total_listings_count',\n",
    "              'neighbourhood_group','city',\n",
    "              'number_of_reviews',\n",
    "              'property_type'], axis=1, inplace=True)\n",
    "\n",
    "listing.head(3)"
   ]
  },
  {
   "cell_type": "code",
   "execution_count": 9,
   "metadata": {},
   "outputs": [
    {
     "data": {
      "text/plain": [
       "name                        1\n",
       "host_id                     0\n",
       "neighbourhood_cleansed      0\n",
       "latitude                    0\n",
       "longitude                   0\n",
       "room_type                   0\n",
       "accommodates                0\n",
       "bathrooms                   2\n",
       "bedrooms                    2\n",
       "beds                        5\n",
       "price                       0\n",
       "minimum_nights              0\n",
       "maximum_nights              0\n",
       "reviews_per_month         791\n",
       "dtype: int64"
      ]
     },
     "execution_count": 9,
     "metadata": {},
     "output_type": "execute_result"
    }
   ],
   "source": [
    "# Checking the remaining null values in the data set\n",
    "listing.isnull().sum()"
   ]
  },
  {
   "cell_type": "markdown",
   "metadata": {},
   "source": [
    "The null values in the reviews_per_month column mean that no reviews were posted for those listings. This can be easily handled by replacing the null values in that column with 0."
   ]
  },
  {
   "cell_type": "code",
   "execution_count": 10,
   "metadata": {},
   "outputs": [
    {
     "data": {
      "text/plain": [
       "name                      1\n",
       "host_id                   0\n",
       "neighbourhood_cleansed    0\n",
       "latitude                  0\n",
       "longitude                 0\n",
       "room_type                 0\n",
       "accommodates              0\n",
       "bathrooms                 2\n",
       "bedrooms                  2\n",
       "beds                      5\n",
       "price                     0\n",
       "minimum_nights            0\n",
       "maximum_nights            0\n",
       "reviews_per_month         0\n",
       "dtype: int64"
      ]
     },
     "execution_count": 10,
     "metadata": {},
     "output_type": "execute_result"
    }
   ],
   "source": [
    "listing.fillna({'reviews_per_month': 0.0}, inplace=True)\n",
    "listing.isnull().sum()"
   ]
  },
  {
   "cell_type": "markdown",
   "metadata": {},
   "source": [
    "Having 0 bedrooms or beds or bathrooms for a rental space indicate that there is probably something wrong with those records. Therefore, rows with such null values will be deleted from the data set."
   ]
  },
  {
   "cell_type": "code",
   "execution_count": 11,
   "metadata": {},
   "outputs": [
    {
     "data": {
      "text/plain": [
       "name                      0\n",
       "host_id                   0\n",
       "neighbourhood_cleansed    0\n",
       "latitude                  0\n",
       "longitude                 0\n",
       "room_type                 0\n",
       "accommodates              0\n",
       "bathrooms                 0\n",
       "bedrooms                  0\n",
       "beds                      0\n",
       "price                     0\n",
       "minimum_nights            0\n",
       "maximum_nights            0\n",
       "reviews_per_month         0\n",
       "dtype: int64"
      ]
     },
     "execution_count": 11,
     "metadata": {},
     "output_type": "execute_result"
    }
   ],
   "source": [
    "listing.dropna(inplace = True)\n",
    "listing.isnull().sum()"
   ]
  },
  {
   "cell_type": "code",
   "execution_count": 12,
   "metadata": {},
   "outputs": [
    {
     "data": {
      "text/plain": [
       "(6167, 14)"
      ]
     },
     "execution_count": 12,
     "metadata": {},
     "output_type": "execute_result"
    }
   ],
   "source": [
    "listing.shape"
   ]
  },
  {
   "cell_type": "code",
   "execution_count": 13,
   "metadata": {},
   "outputs": [
    {
     "data": {
      "text/html": [
       "<div>\n",
       "<style scoped>\n",
       "    .dataframe tbody tr th:only-of-type {\n",
       "        vertical-align: middle;\n",
       "    }\n",
       "\n",
       "    .dataframe tbody tr th {\n",
       "        vertical-align: top;\n",
       "    }\n",
       "\n",
       "    .dataframe thead th {\n",
       "        text-align: right;\n",
       "    }\n",
       "</style>\n",
       "<table border=\"1\" class=\"dataframe\">\n",
       "  <thead>\n",
       "    <tr style=\"text-align: right;\">\n",
       "      <th></th>\n",
       "      <th>host_id</th>\n",
       "      <th>latitude</th>\n",
       "      <th>longitude</th>\n",
       "      <th>accommodates</th>\n",
       "      <th>bathrooms</th>\n",
       "      <th>bedrooms</th>\n",
       "      <th>beds</th>\n",
       "      <th>price</th>\n",
       "      <th>minimum_nights</th>\n",
       "      <th>maximum_nights</th>\n",
       "      <th>reviews_per_month</th>\n",
       "    </tr>\n",
       "  </thead>\n",
       "  <tbody>\n",
       "    <tr>\n",
       "      <th>count</th>\n",
       "      <td>6.167000e+03</td>\n",
       "      <td>6167.000000</td>\n",
       "      <td>6167.000000</td>\n",
       "      <td>6167.000000</td>\n",
       "      <td>6167.000000</td>\n",
       "      <td>6167.000000</td>\n",
       "      <td>6167.000000</td>\n",
       "      <td>6167.000000</td>\n",
       "      <td>6167.000000</td>\n",
       "      <td>6167.000000</td>\n",
       "      <td>6167.000000</td>\n",
       "    </tr>\n",
       "    <tr>\n",
       "      <th>mean</th>\n",
       "      <td>1.003712e+08</td>\n",
       "      <td>49.260397</td>\n",
       "      <td>-123.111338</td>\n",
       "      <td>3.562186</td>\n",
       "      <td>1.343198</td>\n",
       "      <td>1.533323</td>\n",
       "      <td>1.900114</td>\n",
       "      <td>181.910653</td>\n",
       "      <td>12.279552</td>\n",
       "      <td>688.108643</td>\n",
       "      <td>2.212006</td>\n",
       "    </tr>\n",
       "    <tr>\n",
       "      <th>std</th>\n",
       "      <td>9.598785e+07</td>\n",
       "      <td>0.021492</td>\n",
       "      <td>0.039456</td>\n",
       "      <td>2.205318</td>\n",
       "      <td>0.686198</td>\n",
       "      <td>1.118716</td>\n",
       "      <td>1.277850</td>\n",
       "      <td>278.300044</td>\n",
       "      <td>34.694842</td>\n",
       "      <td>594.937372</td>\n",
       "      <td>2.241314</td>\n",
       "    </tr>\n",
       "    <tr>\n",
       "      <th>min</th>\n",
       "      <td>6.033000e+03</td>\n",
       "      <td>49.202900</td>\n",
       "      <td>-123.218600</td>\n",
       "      <td>1.000000</td>\n",
       "      <td>0.000000</td>\n",
       "      <td>0.000000</td>\n",
       "      <td>0.000000</td>\n",
       "      <td>15.000000</td>\n",
       "      <td>1.000000</td>\n",
       "      <td>1.000000</td>\n",
       "      <td>0.000000</td>\n",
       "    </tr>\n",
       "    <tr>\n",
       "      <th>25%</th>\n",
       "      <td>1.453424e+07</td>\n",
       "      <td>49.246350</td>\n",
       "      <td>-123.130495</td>\n",
       "      <td>2.000000</td>\n",
       "      <td>1.000000</td>\n",
       "      <td>1.000000</td>\n",
       "      <td>1.000000</td>\n",
       "      <td>87.000000</td>\n",
       "      <td>1.000000</td>\n",
       "      <td>45.000000</td>\n",
       "      <td>0.360000</td>\n",
       "    </tr>\n",
       "    <tr>\n",
       "      <th>50%</th>\n",
       "      <td>6.352756e+07</td>\n",
       "      <td>49.265370</td>\n",
       "      <td>-123.115170</td>\n",
       "      <td>3.000000</td>\n",
       "      <td>1.000000</td>\n",
       "      <td>1.000000</td>\n",
       "      <td>2.000000</td>\n",
       "      <td>130.000000</td>\n",
       "      <td>2.000000</td>\n",
       "      <td>1125.000000</td>\n",
       "      <td>1.500000</td>\n",
       "    </tr>\n",
       "    <tr>\n",
       "      <th>75%</th>\n",
       "      <td>1.839752e+08</td>\n",
       "      <td>49.278595</td>\n",
       "      <td>-123.087495</td>\n",
       "      <td>4.000000</td>\n",
       "      <td>1.500000</td>\n",
       "      <td>2.000000</td>\n",
       "      <td>2.000000</td>\n",
       "      <td>200.000000</td>\n",
       "      <td>7.000000</td>\n",
       "      <td>1125.000000</td>\n",
       "      <td>3.510000</td>\n",
       "    </tr>\n",
       "    <tr>\n",
       "      <th>max</th>\n",
       "      <td>2.950238e+08</td>\n",
       "      <td>49.293120</td>\n",
       "      <td>-123.017810</td>\n",
       "      <td>24.000000</td>\n",
       "      <td>8.500000</td>\n",
       "      <td>30.000000</td>\n",
       "      <td>15.000000</td>\n",
       "      <td>12800.000000</td>\n",
       "      <td>998.000000</td>\n",
       "      <td>10000.000000</td>\n",
       "      <td>17.620000</td>\n",
       "    </tr>\n",
       "  </tbody>\n",
       "</table>\n",
       "</div>"
      ],
      "text/plain": [
       "            host_id     latitude    longitude  accommodates    bathrooms  \\\n",
       "count  6.167000e+03  6167.000000  6167.000000   6167.000000  6167.000000   \n",
       "mean   1.003712e+08    49.260397  -123.111338      3.562186     1.343198   \n",
       "std    9.598785e+07     0.021492     0.039456      2.205318     0.686198   \n",
       "min    6.033000e+03    49.202900  -123.218600      1.000000     0.000000   \n",
       "25%    1.453424e+07    49.246350  -123.130495      2.000000     1.000000   \n",
       "50%    6.352756e+07    49.265370  -123.115170      3.000000     1.000000   \n",
       "75%    1.839752e+08    49.278595  -123.087495      4.000000     1.500000   \n",
       "max    2.950238e+08    49.293120  -123.017810     24.000000     8.500000   \n",
       "\n",
       "          bedrooms         beds         price  minimum_nights  maximum_nights  \\\n",
       "count  6167.000000  6167.000000   6167.000000     6167.000000     6167.000000   \n",
       "mean      1.533323     1.900114    181.910653       12.279552      688.108643   \n",
       "std       1.118716     1.277850    278.300044       34.694842      594.937372   \n",
       "min       0.000000     0.000000     15.000000        1.000000        1.000000   \n",
       "25%       1.000000     1.000000     87.000000        1.000000       45.000000   \n",
       "50%       1.000000     2.000000    130.000000        2.000000     1125.000000   \n",
       "75%       2.000000     2.000000    200.000000        7.000000     1125.000000   \n",
       "max      30.000000    15.000000  12800.000000      998.000000    10000.000000   \n",
       "\n",
       "       reviews_per_month  \n",
       "count        6167.000000  \n",
       "mean            2.212006  \n",
       "std             2.241314  \n",
       "min             0.000000  \n",
       "25%             0.360000  \n",
       "50%             1.500000  \n",
       "75%             3.510000  \n",
       "max            17.620000  "
      ]
     },
     "execution_count": 13,
     "metadata": {},
     "output_type": "execute_result"
    }
   ],
   "source": [
    "listing.describe()"
   ]
  },
  {
   "cell_type": "markdown",
   "metadata": {},
   "source": [
    "From the values above, one can observe that some values have unusually high values. For example, the minimum_nights for some listings appear to be 998 which is not a common situation. Therefore, such values will be excluded from the data set."
   ]
  },
  {
   "cell_type": "code",
   "execution_count": 14,
   "metadata": {},
   "outputs": [],
   "source": [
    "listing.drop(listing[listing.accommodates > 20].index, inplace=True)\n",
    "listing.drop(listing[listing['minimum_nights'] > 500].index, inplace=True)\n",
    "listing.drop(listing[listing['maximum_nights'] > 5000].index, inplace=True)"
   ]
  },
  {
   "cell_type": "markdown",
   "metadata": {},
   "source": [
    "## 3. Exploratory Data Analysis"
   ]
  },
  {
   "cell_type": "markdown",
   "metadata": {},
   "source": [
    "Distribution of Vancouver Airbnb Rental prices is shown below:"
   ]
  },
  {
   "cell_type": "code",
   "execution_count": 15,
   "metadata": {},
   "outputs": [
    {
     "name": "stderr",
     "output_type": "stream",
     "text": [
      "C:\\Users\\Sinchita Siddiquee\\Anaconda3\\lib\\site-packages\\scipy\\stats\\stats.py:1713: FutureWarning: Using a non-tuple sequence for multidimensional indexing is deprecated; use `arr[tuple(seq)]` instead of `arr[seq]`. In the future this will be interpreted as an array index, `arr[np.array(seq)]`, which will result either in an error or a different result.\n",
      "  return np.add.reduce(sorted[indexer] * weights, axis=axis) / sumval\n"
     ]
    },
    {
     "data": {
      "text/plain": [
       "Text(0.5, 1.0, 'Price Distribution Plot')"
      ]
     },
     "execution_count": 15,
     "metadata": {},
     "output_type": "execute_result"
    },
    {
     "data": {
      "image/png": "[encoded data removed]",
      "text/plain": [
       "<Figure size 720x720 with 1 Axes>"
      ]
     },
     "metadata": {
      "needs_background": "light"
     },
     "output_type": "display_data"
    }
   ],
   "source": [
    "from scipy.stats import norm\n",
    "\n",
    "plt.figure(figsize=(10,10))\n",
    "sns.distplot(listing['price'], fit=norm)\n",
    "plt.title(\"Price Distribution Plot\",size=15, weight='bold')"
   ]
  },
  {
   "cell_type": "markdown",
   "metadata": {},
   "source": [
    "A new column called log_price will be added that takes the natural log of the price."
   ]
  },
  {
   "cell_type": "code",
   "execution_count": 16,
   "metadata": {},
   "outputs": [
    {
     "data": {
      "text/html": [
       "<div>\n",
       "<style scoped>\n",
       "    .dataframe tbody tr th:only-of-type {\n",
       "        vertical-align: middle;\n",
       "    }\n",
       "\n",
       "    .dataframe tbody tr th {\n",
       "        vertical-align: top;\n",
       "    }\n",
       "\n",
       "    .dataframe thead th {\n",
       "        text-align: right;\n",
       "    }\n",
       "</style>\n",
       "<table border=\"1\" class=\"dataframe\">\n",
       "  <thead>\n",
       "    <tr style=\"text-align: right;\">\n",
       "      <th></th>\n",
       "      <th>name</th>\n",
       "      <th>host_id</th>\n",
       "      <th>neighbourhood_cleansed</th>\n",
       "      <th>latitude</th>\n",
       "      <th>longitude</th>\n",
       "      <th>room_type</th>\n",
       "      <th>accommodates</th>\n",
       "      <th>bathrooms</th>\n",
       "      <th>bedrooms</th>\n",
       "      <th>beds</th>\n",
       "      <th>price</th>\n",
       "      <th>minimum_nights</th>\n",
       "      <th>maximum_nights</th>\n",
       "      <th>reviews_per_month</th>\n",
       "      <th>log_price</th>\n",
       "    </tr>\n",
       "  </thead>\n",
       "  <tbody>\n",
       "    <tr>\n",
       "      <th>0</th>\n",
       "      <td>Mai Lodging - Room Single bed 5</td>\n",
       "      <td>9187</td>\n",
       "      <td>Kensington-Cedar Cottage</td>\n",
       "      <td>49.24788</td>\n",
       "      <td>-123.06537</td>\n",
       "      <td>Private room</td>\n",
       "      <td>1</td>\n",
       "      <td>0.0</td>\n",
       "      <td>1.0</td>\n",
       "      <td>1.0</td>\n",
       "      <td>38.0</td>\n",
       "      <td>2</td>\n",
       "      <td>30</td>\n",
       "      <td>0.81</td>\n",
       "      <td>1.579784</td>\n",
       "    </tr>\n",
       "    <tr>\n",
       "      <th>1</th>\n",
       "      <td>D1 -  Million Dollar View 2 BR</td>\n",
       "      <td>30899</td>\n",
       "      <td>Downtown</td>\n",
       "      <td>49.28772</td>\n",
       "      <td>-123.12110</td>\n",
       "      <td>Entire home/apt</td>\n",
       "      <td>6</td>\n",
       "      <td>2.0</td>\n",
       "      <td>2.0</td>\n",
       "      <td>4.0</td>\n",
       "      <td>150.0</td>\n",
       "      <td>60</td>\n",
       "      <td>1124</td>\n",
       "      <td>0.17</td>\n",
       "      <td>2.176091</td>\n",
       "    </tr>\n",
       "    <tr>\n",
       "      <th>2</th>\n",
       "      <td>Garden level studio in ideal loc.</td>\n",
       "      <td>51466</td>\n",
       "      <td>Riley Park</td>\n",
       "      <td>49.24577</td>\n",
       "      <td>-123.10516</td>\n",
       "      <td>Entire home/apt</td>\n",
       "      <td>4</td>\n",
       "      <td>1.0</td>\n",
       "      <td>0.0</td>\n",
       "      <td>2.0</td>\n",
       "      <td>121.0</td>\n",
       "      <td>2</td>\n",
       "      <td>180</td>\n",
       "      <td>1.87</td>\n",
       "      <td>2.082785</td>\n",
       "    </tr>\n",
       "  </tbody>\n",
       "</table>\n",
       "</div>"
      ],
      "text/plain": [
       "                                name  host_id    neighbourhood_cleansed  \\\n",
       "0    Mai Lodging - Room Single bed 5     9187  Kensington-Cedar Cottage   \n",
       "1     D1 -  Million Dollar View 2 BR    30899                  Downtown   \n",
       "2  Garden level studio in ideal loc.    51466                Riley Park   \n",
       "\n",
       "   latitude  longitude        room_type  accommodates  bathrooms  bedrooms  \\\n",
       "0  49.24788 -123.06537     Private room             1        0.0       1.0   \n",
       "1  49.28772 -123.12110  Entire home/apt             6        2.0       2.0   \n",
       "2  49.24577 -123.10516  Entire home/apt             4        1.0       0.0   \n",
       "\n",
       "   beds  price  minimum_nights  maximum_nights  reviews_per_month  log_price  \n",
       "0   1.0   38.0               2              30               0.81   1.579784  \n",
       "1   4.0  150.0              60            1124               0.17   2.176091  \n",
       "2   2.0  121.0               2             180               1.87   2.082785  "
      ]
     },
     "execution_count": 16,
     "metadata": {},
     "output_type": "execute_result"
    }
   ],
   "source": [
    "listing['log_price'] = np.log10(listing['price'])\n",
    "listing.head(3)"
   ]
  },
  {
   "cell_type": "markdown",
   "metadata": {},
   "source": [
    "Below, we will see how the distribution varies for price_log. The plot shows that price_log has a more normal distribution."
   ]
  },
  {
   "cell_type": "code",
   "execution_count": 17,
   "metadata": {},
   "outputs": [
    {
     "data": {
      "text/plain": [
       "Text(0.5, 1.0, 'Log-Price Distribution Plot')"
      ]
     },
     "execution_count": 17,
     "metadata": {},
     "output_type": "execute_result"
    },
    {
     "data": {
      "image/png": "[encoded data removed]",
      "text/plain": [
       "<Figure size 864x720 with 1 Axes>"
      ]
     },
     "metadata": {
      "needs_background": "light"
     },
     "output_type": "display_data"
    }
   ],
   "source": [
    "plt.figure(figsize=(12,10))\n",
    "sns.distplot(listing['log_price'], fit=norm)\n",
    "plt.title(\"Log-Price Distribution Plot\",size=15, weight='bold')"
   ]
  },
  {
   "cell_type": "markdown",
   "metadata": {},
   "source": [
    "At first, the relationship between the number of people the rental accommodates and the price will be analyzed using a scatter plot."
   ]
  },
  {
   "cell_type": "code",
   "execution_count": 18,
   "metadata": {},
   "outputs": [
    {
     "data": {
      "text/plain": [
       "<matplotlib.axes._subplots.AxesSubplot at 0x1ab4eb2d470>"
      ]
     },
     "execution_count": 18,
     "metadata": {},
     "output_type": "execute_result"
    },
    {
     "data": {
      "image/png": "[encoded data removed]",
      "text/plain": [
       "<Figure size 432x288 with 1 Axes>"
      ]
     },
     "metadata": {
      "needs_background": "light"
     },
     "output_type": "display_data"
    }
   ],
   "source": [
    "ax = plt.gca()\n",
    "listing.plot(kind='scatter',x='accommodates',y='price',ax=ax)"
   ]
  },
  {
   "cell_type": "markdown",
   "metadata": {},
   "source": [
    "The price and the number of people accommodated does not seem to have a linear relationship."
   ]
  },
  {
   "cell_type": "markdown",
   "metadata": {},
   "source": [
    "Next, the relationship between log_price and accommodation size will be plotted."
   ]
  },
  {
   "cell_type": "code",
   "execution_count": 19,
   "metadata": {},
   "outputs": [
    {
     "data": {
      "text/plain": [
       "<matplotlib.axes._subplots.AxesSubplot at 0x1ab4e9f7b70>"
      ]
     },
     "execution_count": 19,
     "metadata": {},
     "output_type": "execute_result"
    },
    {
     "data": {
      "image/png": "[encoded data removed]",
      "text/plain": [
       "<Figure size 432x288 with 1 Axes>"
      ]
     },
     "metadata": {
      "needs_background": "light"
     },
     "output_type": "display_data"
    }
   ],
   "source": [
    "ax = plt.gca()\n",
    "listing.plot(kind='scatter',x='accommodates',y='log_price',ax=ax)"
   ]
  },
  {
   "cell_type": "markdown",
   "metadata": {
    "scrolled": false
   },
   "source": [
    "From the plots, it is clear that the log_price has a more linear relationship with the accommodates column.\n",
    "\n",
    "Next, the categorical variable room_type and neighbourhood_cleansed will be used to generate numeric columns that will be used in the correlation analysis.\n",
    "\n",
    "The hypothesis is that the the price of rentals tend to be higher for entire home/apt type properties as well as properties located in the Downtown area. The first new column entire_place will have a value of 1 for rows that have the room_type as \"Entire home/apt\". The second new column is_downtown will have a value of 1 for rows that have the neighbourhood_cleansed value as Downtown."
   ]
  },
  {
   "cell_type": "code",
   "execution_count": 20,
   "metadata": {},
   "outputs": [
    {
     "data": {
      "text/html": [
       "<div>\n",
       "<style scoped>\n",
       "    .dataframe tbody tr th:only-of-type {\n",
       "        vertical-align: middle;\n",
       "    }\n",
       "\n",
       "    .dataframe tbody tr th {\n",
       "        vertical-align: top;\n",
       "    }\n",
       "\n",
       "    .dataframe thead th {\n",
       "        text-align: right;\n",
       "    }\n",
       "</style>\n",
       "<table border=\"1\" class=\"dataframe\">\n",
       "  <thead>\n",
       "    <tr style=\"text-align: right;\">\n",
       "      <th></th>\n",
       "      <th>name</th>\n",
       "      <th>host_id</th>\n",
       "      <th>neighbourhood_cleansed</th>\n",
       "      <th>latitude</th>\n",
       "      <th>longitude</th>\n",
       "      <th>room_type</th>\n",
       "      <th>accommodates</th>\n",
       "      <th>bathrooms</th>\n",
       "      <th>bedrooms</th>\n",
       "      <th>beds</th>\n",
       "      <th>price</th>\n",
       "      <th>minimum_nights</th>\n",
       "      <th>maximum_nights</th>\n",
       "      <th>reviews_per_month</th>\n",
       "      <th>log_price</th>\n",
       "      <th>is_downtown</th>\n",
       "      <th>entire_place</th>\n",
       "    </tr>\n",
       "  </thead>\n",
       "  <tbody>\n",
       "    <tr>\n",
       "      <th>0</th>\n",
       "      <td>Mai Lodging - Room Single bed 5</td>\n",
       "      <td>9187</td>\n",
       "      <td>Kensington-Cedar Cottage</td>\n",
       "      <td>49.24788</td>\n",
       "      <td>-123.06537</td>\n",
       "      <td>Private room</td>\n",
       "      <td>1</td>\n",
       "      <td>0.0</td>\n",
       "      <td>1.0</td>\n",
       "      <td>1.0</td>\n",
       "      <td>38.0</td>\n",
       "      <td>2</td>\n",
       "      <td>30</td>\n",
       "      <td>0.81</td>\n",
       "      <td>1.579784</td>\n",
       "      <td>0</td>\n",
       "      <td>0</td>\n",
       "    </tr>\n",
       "    <tr>\n",
       "      <th>1</th>\n",
       "      <td>D1 -  Million Dollar View 2 BR</td>\n",
       "      <td>30899</td>\n",
       "      <td>Downtown</td>\n",
       "      <td>49.28772</td>\n",
       "      <td>-123.12110</td>\n",
       "      <td>Entire home/apt</td>\n",
       "      <td>6</td>\n",
       "      <td>2.0</td>\n",
       "      <td>2.0</td>\n",
       "      <td>4.0</td>\n",
       "      <td>150.0</td>\n",
       "      <td>60</td>\n",
       "      <td>1124</td>\n",
       "      <td>0.17</td>\n",
       "      <td>2.176091</td>\n",
       "      <td>1</td>\n",
       "      <td>1</td>\n",
       "    </tr>\n",
       "    <tr>\n",
       "      <th>2</th>\n",
       "      <td>Garden level studio in ideal loc.</td>\n",
       "      <td>51466</td>\n",
       "      <td>Riley Park</td>\n",
       "      <td>49.24577</td>\n",
       "      <td>-123.10516</td>\n",
       "      <td>Entire home/apt</td>\n",
       "      <td>4</td>\n",
       "      <td>1.0</td>\n",
       "      <td>0.0</td>\n",
       "      <td>2.0</td>\n",
       "      <td>121.0</td>\n",
       "      <td>2</td>\n",
       "      <td>180</td>\n",
       "      <td>1.87</td>\n",
       "      <td>2.082785</td>\n",
       "      <td>0</td>\n",
       "      <td>1</td>\n",
       "    </tr>\n",
       "  </tbody>\n",
       "</table>\n",
       "</div>"
      ],
      "text/plain": [
       "                                name  host_id    neighbourhood_cleansed  \\\n",
       "0    Mai Lodging - Room Single bed 5     9187  Kensington-Cedar Cottage   \n",
       "1     D1 -  Million Dollar View 2 BR    30899                  Downtown   \n",
       "2  Garden level studio in ideal loc.    51466                Riley Park   \n",
       "\n",
       "   latitude  longitude        room_type  accommodates  bathrooms  bedrooms  \\\n",
       "0  49.24788 -123.06537     Private room             1        0.0       1.0   \n",
       "1  49.28772 -123.12110  Entire home/apt             6        2.0       2.0   \n",
       "2  49.24577 -123.10516  Entire home/apt             4        1.0       0.0   \n",
       "\n",
       "   beds  price  minimum_nights  maximum_nights  reviews_per_month  log_price  \\\n",
       "0   1.0   38.0               2              30               0.81   1.579784   \n",
       "1   4.0  150.0              60            1124               0.17   2.176091   \n",
       "2   2.0  121.0               2             180               1.87   2.082785   \n",
       "\n",
       "   is_downtown  entire_place  \n",
       "0            0             0  \n",
       "1            1             1  \n",
       "2            0             1  "
      ]
     },
     "execution_count": 20,
     "metadata": {},
     "output_type": "execute_result"
    }
   ],
   "source": [
    "listing['is_downtown'] = np.where(listing['neighbourhood_cleansed'].str.contains('Downtown'), 1, 0)\n",
    "listing['entire_place'] = np.where(listing['room_type'].str.contains('Entire home/apt'), 1, 0)\n",
    "\n",
    "listing.head(3)"
   ]
  },
  {
   "cell_type": "markdown",
   "metadata": {},
   "source": [
    "A correlation matrix will be generated to view the correlation among the various factors."
   ]
  },
  {
   "cell_type": "code",
   "execution_count": 21,
   "metadata": {
    "scrolled": false
   },
   "outputs": [
    {
     "data": {
      "text/plain": [
       "<matplotlib.axes._subplots.AxesSubplot at 0x1ab4ea85fd0>"
      ]
     },
     "execution_count": 21,
     "metadata": {},
     "output_type": "execute_result"
    },
    {
     "data": {
      "image/png": "[encoded data removed]",
      "text/plain": [
       "<Figure size 432x288 with 2 Axes>"
      ]
     },
     "metadata": {
      "needs_background": "light"
     },
     "output_type": "display_data"
    }
   ],
   "source": [
    "sns.heatmap(listing.corr().round(2))"
   ]
  },
  {
   "cell_type": "markdown",
   "metadata": {},
   "source": [
    "## 4. Data Modelling - Linear Regression Model"
   ]
  },
  {
   "cell_type": "code",
   "execution_count": 22,
   "metadata": {},
   "outputs": [
    {
     "data": {
      "text/html": [
       "<table class=\"simpletable\">\n",
       "<caption>OLS Regression Results</caption>\n",
       "<tr>\n",
       "  <th>Dep. Variable:</th>        <td>log_price</td>    <th>  R-squared:         </th> <td>   0.505</td>\n",
       "</tr>\n",
       "<tr>\n",
       "  <th>Model:</th>                   <td>OLS</td>       <th>  Adj. R-squared:    </th> <td>   0.504</td>\n",
       "</tr>\n",
       "<tr>\n",
       "  <th>Method:</th>             <td>Least Squares</td>  <th>  F-statistic:       </th> <td>   2089.</td>\n",
       "</tr>\n",
       "<tr>\n",
       "  <th>Date:</th>             <td>Sat, 02 Nov 2019</td> <th>  Prob (F-statistic):</th>  <td>  0.00</td> \n",
       "</tr>\n",
       "<tr>\n",
       "  <th>Time:</th>                 <td>11:57:30</td>     <th>  Log-Likelihood:    </th> <td>  833.68</td>\n",
       "</tr>\n",
       "<tr>\n",
       "  <th>No. Observations:</th>      <td>  6158</td>      <th>  AIC:               </th> <td>  -1659.</td>\n",
       "</tr>\n",
       "<tr>\n",
       "  <th>Df Residuals:</th>          <td>  6154</td>      <th>  BIC:               </th> <td>  -1632.</td>\n",
       "</tr>\n",
       "<tr>\n",
       "  <th>Df Model:</th>              <td>     3</td>      <th>                     </th>     <td> </td>   \n",
       "</tr>\n",
       "<tr>\n",
       "  <th>Covariance Type:</th>      <td>nonrobust</td>    <th>                     </th>     <td> </td>   \n",
       "</tr>\n",
       "</table>\n",
       "<table class=\"simpletable\">\n",
       "<tr>\n",
       "        <td></td>          <th>coef</th>     <th>std err</th>      <th>t</th>      <th>P>|t|</th>  <th>[0.025</th>    <th>0.975]</th>  \n",
       "</tr>\n",
       "<tr>\n",
       "  <th>Intercept</th>    <td>    1.7276</td> <td>    0.006</td> <td>  296.401</td> <td> 0.000</td> <td>    1.716</td> <td>    1.739</td>\n",
       "</tr>\n",
       "<tr>\n",
       "  <th>accommodates</th> <td>    0.0682</td> <td>    0.001</td> <td>   49.935</td> <td> 0.000</td> <td>    0.066</td> <td>    0.071</td>\n",
       "</tr>\n",
       "<tr>\n",
       "  <th>entire_place</th> <td>    0.1901</td> <td>    0.007</td> <td>   28.463</td> <td> 0.000</td> <td>    0.177</td> <td>    0.203</td>\n",
       "</tr>\n",
       "<tr>\n",
       "  <th>is_downtown</th>  <td>    0.1212</td> <td>    0.006</td> <td>   19.281</td> <td> 0.000</td> <td>    0.109</td> <td>    0.133</td>\n",
       "</tr>\n",
       "</table>\n",
       "<table class=\"simpletable\">\n",
       "<tr>\n",
       "  <th>Omnibus:</th>       <td>794.466</td> <th>  Durbin-Watson:     </th> <td>   1.832</td>\n",
       "</tr>\n",
       "<tr>\n",
       "  <th>Prob(Omnibus):</th> <td> 0.000</td>  <th>  Jarque-Bera (JB):  </th> <td>3056.351</td>\n",
       "</tr>\n",
       "<tr>\n",
       "  <th>Skew:</th>          <td> 0.606</td>  <th>  Prob(JB):          </th> <td>    0.00</td>\n",
       "</tr>\n",
       "<tr>\n",
       "  <th>Kurtosis:</th>      <td> 6.231</td>  <th>  Cond. No.          </th> <td>    12.0</td>\n",
       "</tr>\n",
       "</table><br/><br/>Warnings:<br/>[1] Standard Errors assume that the covariance matrix of the errors is correctly specified."
      ],
      "text/plain": [
       "<class 'statsmodels.iolib.summary.Summary'>\n",
       "\"\"\"\n",
       "                            OLS Regression Results                            \n",
       "==============================================================================\n",
       "Dep. Variable:              log_price   R-squared:                       0.505\n",
       "Model:                            OLS   Adj. R-squared:                  0.504\n",
       "Method:                 Least Squares   F-statistic:                     2089.\n",
       "Date:                Sat, 02 Nov 2019   Prob (F-statistic):               0.00\n",
       "Time:                        11:57:30   Log-Likelihood:                 833.68\n",
       "No. Observations:                6158   AIC:                            -1659.\n",
       "Df Residuals:                    6154   BIC:                            -1632.\n",
       "Df Model:                           3                                         \n",
       "Covariance Type:            nonrobust                                         \n",
       "================================================================================\n",
       "                   coef    std err          t      P>|t|      [0.025      0.975]\n",
       "--------------------------------------------------------------------------------\n",
       "Intercept        1.7276      0.006    296.401      0.000       1.716       1.739\n",
       "accommodates     0.0682      0.001     49.935      0.000       0.066       0.071\n",
       "entire_place     0.1901      0.007     28.463      0.000       0.177       0.203\n",
       "is_downtown      0.1212      0.006     19.281      0.000       0.109       0.133\n",
       "==============================================================================\n",
       "Omnibus:                      794.466   Durbin-Watson:                   1.832\n",
       "Prob(Omnibus):                  0.000   Jarque-Bera (JB):             3056.351\n",
       "Skew:                           0.606   Prob(JB):                         0.00\n",
       "Kurtosis:                       6.231   Cond. No.                         12.0\n",
       "==============================================================================\n",
       "\n",
       "Warnings:\n",
       "[1] Standard Errors assume that the covariance matrix of the errors is correctly specified.\n",
       "\"\"\""
      ]
     },
     "execution_count": 22,
     "metadata": {},
     "output_type": "execute_result"
    }
   ],
   "source": [
    "import statsmodels.formula.api as smf\n",
    "\n",
    "listing_reg = smf.ols(data=listing, formula=\"log_price ~ accommodates + entire_place + is_downtown\").fit()\n",
    "listing_reg.summary()"
   ]
  },
  {
   "cell_type": "code",
   "execution_count": 23,
   "metadata": {},
   "outputs": [
    {
     "data": {
      "image/png": "[encoded data removed]",
      "text/plain": [
       "<Figure size 1440x360 with 3 Axes>"
      ]
     },
     "metadata": {
      "needs_background": "light"
     },
     "output_type": "display_data"
    }
   ],
   "source": [
    "plt.figure(figsize=(20, 5))\n",
    "\n",
    "features = ['accommodates', 'entire_place', 'is_downtown']\n",
    "target = listing['log_price']\n",
    "\n",
    "for i, col in enumerate(features):\n",
    "    plt.subplot(1, len(features) ,i+1)\n",
    "    x = listing[col]\n",
    "    y = target\n",
    "    plt.scatter(x, y, marker='o')\n",
    "    plt.title(col)\n",
    "    plt.xlabel(col)\n",
    "    plt.ylabel('Log_Price')"
   ]
  },
  {
   "cell_type": "code",
   "execution_count": 24,
   "metadata": {},
   "outputs": [],
   "source": [
    "# Prepare the data for training\n",
    "\n",
    "X = pd.DataFrame(np.c_[listing['accommodates'], listing['entire_place'], listing['is_downtown']], columns = ['accommodates','entire_place','is_downtown'])\n",
    "\n",
    "Y = listing['log_price']"
   ]
  },
  {
   "cell_type": "code",
   "execution_count": 25,
   "metadata": {},
   "outputs": [
    {
     "name": "stdout",
     "output_type": "stream",
     "text": [
      "(4926, 3)\n",
      "(1232, 3)\n",
      "(4926,)\n",
      "(1232,)\n"
     ]
    }
   ],
   "source": [
    "# Splitting the data into training and testing sets\n",
    "\n",
    "from sklearn.model_selection import train_test_split\n",
    "\n",
    "# splits the training and test data set in 80% : 20%\n",
    "# assigns random state to any value. This ensures consistency.\n",
    "\n",
    "X_train, X_test, Y_train, Y_test = train_test_split(X, Y, test_size = 0.2, random_state=5)\n",
    "print(X_train.shape)\n",
    "print(X_test.shape)\n",
    "print(Y_train.shape)\n",
    "print(Y_test.shape)"
   ]
  },
  {
   "cell_type": "code",
   "execution_count": 26,
   "metadata": {},
   "outputs": [
    {
     "data": {
      "text/plain": [
       "LinearRegression(copy_X=True, fit_intercept=True, n_jobs=None,\n",
       "         normalize=False)"
      ]
     },
     "execution_count": 26,
     "metadata": {},
     "output_type": "execute_result"
    }
   ],
   "source": [
    "# train the model using sklearn LinearRegression\n",
    "\n",
    "from sklearn.linear_model import LinearRegression\n",
    "from sklearn.metrics import mean_absolute_error\n",
    "from sklearn.metrics import mean_squared_error, r2_score\n",
    "\n",
    "lin_model = LinearRegression()\n",
    "lin_model.fit(X_train, Y_train)"
   ]
  },
  {
   "cell_type": "code",
   "execution_count": 27,
   "metadata": {},
   "outputs": [
    {
     "name": "stdout",
     "output_type": "stream",
     "text": [
      "The model performance for training set\n",
      "--------------------------------------\n",
      "MAE is 0.16091244870771734\n",
      "RMSE is 0.2101523948878755\n",
      "R2 score is 0.5072761606378229\n",
      "\n",
      "\n",
      "The model performance for testing set\n",
      "--------------------------------------\n",
      "MAE is 0.16538063411337459\n",
      "RMSE is 0.2160583185635354\n",
      "R2 score is 0.4933878952418158\n"
     ]
    }
   ],
   "source": [
    "# model evaluation for training set\n",
    "\n",
    "y_train_predict = lin_model.predict(X_train)\n",
    "mae = mean_absolute_error(Y_train, y_train_predict)\n",
    "rmse = (np.sqrt(mean_squared_error(Y_train, y_train_predict)))\n",
    "r2 = r2_score(Y_train, y_train_predict)\n",
    "\n",
    "print(\"The model performance for training set\")\n",
    "print(\"--------------------------------------\")\n",
    "print('MAE is {}'.format(mae))\n",
    "print('RMSE is {}'.format(rmse))\n",
    "print('R2 score is {}'.format(r2))\n",
    "print(\"\\n\")\n",
    "\n",
    "# model evaluation for testing set \n",
    "\n",
    "y_test_predict = lin_model.predict(X_test)\n",
    "\n",
    "# mean absolute error pf the model\n",
    "mae = mean_absolute_error(Y_test, y_test_predict)\n",
    "\n",
    "# root mean square error of the model\n",
    "rmse = (np.sqrt(mean_squared_error(Y_test, y_test_predict)))\n",
    "\n",
    "# r-squared score of the model\n",
    "r2 = r2_score(Y_test, y_test_predict)\n",
    "\n",
    "print(\"The model performance for testing set\")\n",
    "print(\"--------------------------------------\")\n",
    "print('MAE is {}'.format(mae))\n",
    "print('RMSE is {}'.format(rmse))\n",
    "print('R2 score is {}'.format(r2))"
   ]
  },
  {
   "cell_type": "code",
   "execution_count": 28,
   "metadata": {},
   "outputs": [
    {
     "data": {
      "image/png": "[encoded data removed]",
      "text/plain": [
       "<Figure size 720x576 with 1 Axes>"
      ]
     },
     "metadata": {
      "needs_background": "light"
     },
     "output_type": "display_data"
    }
   ],
   "source": [
    "# plotting the y_test vs y_pred\n",
    "# ideally should have been a straight line\n",
    "plt.figure(figsize=(10,8))\n",
    "plt.scatter(Y_test, y_test_predict)\n",
    "plt.show()"
   ]
  },
  {
   "cell_type": "markdown",
   "metadata": {},
   "source": [
    "## 5. Conclusion\n",
    "\n",
    "The Vancouver Airbnb data set was used to train a Linear Regression model that can predict the prices of Airbnb rentals based on the number of people it accommodates, location and room type. \n",
    "\n",
    "The model returned the following values for the test data: \n",
    "   \n",
    "   MAE: 0.16538063411337459; RMSE: 0.2160583185635354; R2 score: 0.4933878952418158\n",
    "\n",
    "The scores show that this is not a perfect model and there is a lot of room for improvement such as using a larger data set or developing a different type of model."
   ]
  }
 ],
 "metadata": {
  "kernelspec": {
   "display_name": "Python 3",
   "language": "python",
   "name": "python3"
  },
  "language_info": {
   "codemirror_mode": {
    "name": "ipython",
    "version": 3
   },
   "file_extension": ".py",
   "mimetype": "text/x-python",
   "name": "python",
   "nbconvert_exporter": "python",
   "pygments_lexer": "ipython3",
   "version": "3.7.1"
  }
 },
 "nbformat": 4,
 "nbformat_minor": 2
}
